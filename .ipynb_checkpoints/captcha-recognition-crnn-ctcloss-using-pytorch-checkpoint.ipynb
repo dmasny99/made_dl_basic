{
 "cells": [
  {
   "cell_type": "code",
   "execution_count": 11,
   "metadata": {
    "execution": {
     "iopub.execute_input": "2021-09-09T13:03:57.718415Z",
     "iopub.status.busy": "2021-09-09T13:03:57.717982Z",
     "iopub.status.idle": "2021-09-09T13:03:59.995681Z",
     "shell.execute_reply": "2021-09-09T13:03:59.994817Z",
     "shell.execute_reply.started": "2021-09-09T13:03:57.718293Z"
    }
   },
   "outputs": [],
   "source": [
    "import os\n",
    "import glob \n",
    "import pandas as pd\n",
    "import string\n",
    "import collections\n",
    "\n",
    "from tqdm import tqdm\n",
    "\n",
    "\n",
    "from PIL import Image\n",
    "\n",
    "from sklearn.model_selection import train_test_split\n",
    "\n",
    "import torch\n",
    "import torch.nn as nn\n",
    "import torch.nn.functional as F\n",
    "import torchvision.transforms as T\n",
    "from torch.utils.data import DataLoader\n",
    "import torch.optim as optim"
   ]
  },
  {
   "cell_type": "code",
   "execution_count": 12,
   "metadata": {
    "execution": {
     "iopub.execute_input": "2021-09-09T13:03:59.997484Z",
     "iopub.status.busy": "2021-09-09T13:03:59.997125Z",
     "iopub.status.idle": "2021-09-09T13:04:00.626642Z",
     "shell.execute_reply": "2021-09-09T13:04:00.625783Z",
     "shell.execute_reply.started": "2021-09-09T13:03:59.997445Z"
    }
   },
   "outputs": [],
   "source": [
    "data = glob.glob(os.path.join('samples/', '*.png'))\n",
    "path = 'samples/'\n",
    "DEVICE = torch.device('cuda:0' if torch.cuda.is_available() else 'cpu')"
   ]
  },
  {
   "cell_type": "code",
   "execution_count": 13,
   "metadata": {
    "execution": {
     "iopub.execute_input": "2021-09-09T13:04:00.628828Z",
     "iopub.status.busy": "2021-09-09T13:04:00.628444Z",
     "iopub.status.idle": "2021-09-09T13:04:00.639450Z",
     "shell.execute_reply": "2021-09-09T13:04:00.638643Z",
     "shell.execute_reply.started": "2021-09-09T13:04:00.628791Z"
    }
   },
   "outputs": [
    {
     "data": {
      "text/plain": [
       "device(type='cuda', index=0)"
      ]
     },
     "execution_count": 13,
     "metadata": {},
     "output_type": "execute_result"
    }
   ],
   "source": [
    "DEVICE"
   ]
  },
  {
   "cell_type": "code",
   "execution_count": 14,
   "metadata": {
    "execution": {
     "iopub.execute_input": "2021-09-09T13:04:00.642292Z",
     "iopub.status.busy": "2021-09-09T13:04:00.641629Z",
     "iopub.status.idle": "2021-09-09T13:04:00.647341Z",
     "shell.execute_reply": "2021-09-09T13:04:00.646631Z",
     "shell.execute_reply.started": "2021-09-09T13:04:00.642233Z"
    }
   },
   "outputs": [],
   "source": [
    "all_letters = string.ascii_lowercase + string.digits\n",
    "\n",
    "mapping = {}\n",
    "mapping_inv = {}\n",
    "i = 1\n",
    "for x in all_letters:\n",
    "    mapping[x] = i\n",
    "    mapping_inv[i] = x\n",
    "    i += 1"
   ]
  },
  {
   "cell_type": "code",
   "execution_count": 15,
   "metadata": {
    "execution": {
     "iopub.execute_input": "2021-09-09T13:04:00.649234Z",
     "iopub.status.busy": "2021-09-09T13:04:00.648684Z",
     "iopub.status.idle": "2021-09-09T13:04:00.655794Z",
     "shell.execute_reply": "2021-09-09T13:04:00.654982Z",
     "shell.execute_reply.started": "2021-09-09T13:04:00.649196Z"
    }
   },
   "outputs": [],
   "source": [
    "num_class = len(mapping)"
   ]
  },
  {
   "cell_type": "code",
   "execution_count": 16,
   "metadata": {
    "execution": {
     "iopub.execute_input": "2021-09-09T13:04:00.657507Z",
     "iopub.status.busy": "2021-09-09T13:04:00.657130Z",
     "iopub.status.idle": "2021-09-09T13:04:00.689611Z",
     "shell.execute_reply": "2021-09-09T13:04:00.688644Z",
     "shell.execute_reply.started": "2021-09-09T13:04:00.657445Z"
    }
   },
   "outputs": [
    {
     "data": {
      "text/html": [
       "<div>\n",
       "<style scoped>\n",
       "    .dataframe tbody tr th:only-of-type {\n",
       "        vertical-align: middle;\n",
       "    }\n",
       "\n",
       "    .dataframe tbody tr th {\n",
       "        vertical-align: top;\n",
       "    }\n",
       "\n",
       "    .dataframe thead th {\n",
       "        text-align: right;\n",
       "    }\n",
       "</style>\n",
       "<table border=\"1\" class=\"dataframe\">\n",
       "  <thead>\n",
       "    <tr style=\"text-align: right;\">\n",
       "      <th></th>\n",
       "      <th>image</th>\n",
       "      <th>label</th>\n",
       "    </tr>\n",
       "  </thead>\n",
       "  <tbody>\n",
       "    <tr>\n",
       "      <th>0</th>\n",
       "      <td>p8c24.png</td>\n",
       "      <td>[16, 35, 3, 29, 31]</td>\n",
       "    </tr>\n",
       "    <tr>\n",
       "      <th>1</th>\n",
       "      <td>677g3.png</td>\n",
       "      <td>[33, 34, 34, 7, 30]</td>\n",
       "    </tr>\n",
       "    <tr>\n",
       "      <th>2</th>\n",
       "      <td>7g3nf.png</td>\n",
       "      <td>[34, 7, 30, 14, 6]</td>\n",
       "    </tr>\n",
       "    <tr>\n",
       "      <th>3</th>\n",
       "      <td>53wb8.png</td>\n",
       "      <td>[32, 30, 23, 2, 35]</td>\n",
       "    </tr>\n",
       "    <tr>\n",
       "      <th>4</th>\n",
       "      <td>4gycb.png</td>\n",
       "      <td>[31, 7, 25, 3, 2]</td>\n",
       "    </tr>\n",
       "  </tbody>\n",
       "</table>\n",
       "</div>"
      ],
      "text/plain": [
       "       image                label\n",
       "0  p8c24.png  [16, 35, 3, 29, 31]\n",
       "1  677g3.png  [33, 34, 34, 7, 30]\n",
       "2  7g3nf.png   [34, 7, 30, 14, 6]\n",
       "3  53wb8.png  [32, 30, 23, 2, 35]\n",
       "4  4gycb.png    [31, 7, 25, 3, 2]"
      ]
     },
     "execution_count": 16,
     "metadata": {},
     "output_type": "execute_result"
    }
   ],
   "source": [
    "images = []\n",
    "labels = []\n",
    "datas = collections.defaultdict(list)\n",
    "for d in data:\n",
    "    x = d.split('/')[-1]\n",
    "    datas['image'].append(x)\n",
    "    datas['label'].append([mapping[i] for i in x.split('.')[0]])\n",
    "df = pd.DataFrame(datas)\n",
    "df.head()"
   ]
  },
  {
   "cell_type": "code",
   "execution_count": 27,
   "metadata": {},
   "outputs": [
    {
     "data": {
      "text/html": [
       "<div>\n",
       "<style scoped>\n",
       "    .dataframe tbody tr th:only-of-type {\n",
       "        vertical-align: middle;\n",
       "    }\n",
       "\n",
       "    .dataframe tbody tr th {\n",
       "        vertical-align: top;\n",
       "    }\n",
       "\n",
       "    .dataframe thead th {\n",
       "        text-align: right;\n",
       "    }\n",
       "</style>\n",
       "<table border=\"1\" class=\"dataframe\">\n",
       "  <thead>\n",
       "    <tr style=\"text-align: right;\">\n",
       "      <th></th>\n",
       "      <th>image</th>\n",
       "      <th>label</th>\n",
       "    </tr>\n",
       "  </thead>\n",
       "  <tbody>\n",
       "    <tr>\n",
       "      <th>916</th>\n",
       "      <td>74eyg.png</td>\n",
       "      <td>[34, 31, 5, 25, 7]</td>\n",
       "    </tr>\n",
       "    <tr>\n",
       "      <th>866</th>\n",
       "      <td>y3c58.png</td>\n",
       "      <td>[25, 30, 3, 32, 35]</td>\n",
       "    </tr>\n",
       "    <tr>\n",
       "      <th>887</th>\n",
       "      <td>23mdg.png</td>\n",
       "      <td>[29, 30, 13, 4, 7]</td>\n",
       "    </tr>\n",
       "    <tr>\n",
       "      <th>369</th>\n",
       "      <td>y5dpp.png</td>\n",
       "      <td>[25, 32, 4, 16, 16]</td>\n",
       "    </tr>\n",
       "    <tr>\n",
       "      <th>1039</th>\n",
       "      <td>byfgn.png</td>\n",
       "      <td>[2, 25, 6, 7, 14]</td>\n",
       "    </tr>\n",
       "    <tr>\n",
       "      <th>...</th>\n",
       "      <td>...</td>\n",
       "      <td>...</td>\n",
       "    </tr>\n",
       "    <tr>\n",
       "      <th>499</th>\n",
       "      <td>n2by7.png</td>\n",
       "      <td>[14, 29, 2, 25, 34]</td>\n",
       "    </tr>\n",
       "    <tr>\n",
       "      <th>74</th>\n",
       "      <td>m22e3.png</td>\n",
       "      <td>[13, 29, 29, 5, 30]</td>\n",
       "    </tr>\n",
       "    <tr>\n",
       "      <th>8</th>\n",
       "      <td>p5nce.png</td>\n",
       "      <td>[16, 32, 14, 3, 5]</td>\n",
       "    </tr>\n",
       "    <tr>\n",
       "      <th>972</th>\n",
       "      <td>8w875.png</td>\n",
       "      <td>[35, 23, 35, 34, 32]</td>\n",
       "    </tr>\n",
       "    <tr>\n",
       "      <th>544</th>\n",
       "      <td>4cfw8.png</td>\n",
       "      <td>[31, 3, 6, 23, 35]</td>\n",
       "    </tr>\n",
       "  </tbody>\n",
       "</table>\n",
       "<p>208 rows × 2 columns</p>\n",
       "</div>"
      ],
      "text/plain": [
       "          image                 label\n",
       "916   74eyg.png    [34, 31, 5, 25, 7]\n",
       "866   y3c58.png   [25, 30, 3, 32, 35]\n",
       "887   23mdg.png    [29, 30, 13, 4, 7]\n",
       "369   y5dpp.png   [25, 32, 4, 16, 16]\n",
       "1039  byfgn.png     [2, 25, 6, 7, 14]\n",
       "...         ...                   ...\n",
       "499   n2by7.png   [14, 29, 2, 25, 34]\n",
       "74    m22e3.png   [13, 29, 29, 5, 30]\n",
       "8     p5nce.png    [16, 32, 14, 3, 5]\n",
       "972   8w875.png  [35, 23, 35, 34, 32]\n",
       "544   4cfw8.png    [31, 3, 6, 23, 35]\n",
       "\n",
       "[208 rows x 2 columns]"
      ]
     },
     "execution_count": 27,
     "metadata": {},
     "output_type": "execute_result"
    }
   ],
   "source": [
    "df_test"
   ]
  },
  {
   "cell_type": "code",
   "execution_count": 17,
   "metadata": {
    "execution": {
     "iopub.execute_input": "2021-09-09T13:04:01.324221Z",
     "iopub.status.busy": "2021-09-09T13:04:01.323884Z",
     "iopub.status.idle": "2021-09-09T13:04:01.330586Z",
     "shell.execute_reply": "2021-09-09T13:04:01.329619Z",
     "shell.execute_reply.started": "2021-09-09T13:04:01.324190Z"
    }
   },
   "outputs": [],
   "source": [
    "df_train, df_test = train_test_split(df, test_size=0.2, shuffle=True)"
   ]
  },
  {
   "cell_type": "code",
   "execution_count": 18,
   "metadata": {
    "execution": {
     "iopub.execute_input": "2021-09-09T13:04:02.444830Z",
     "iopub.status.busy": "2021-09-09T13:04:02.444509Z",
     "iopub.status.idle": "2021-09-09T13:04:02.452399Z",
     "shell.execute_reply": "2021-09-09T13:04:02.451450Z",
     "shell.execute_reply.started": "2021-09-09T13:04:02.444801Z"
    }
   },
   "outputs": [],
   "source": [
    "class CaptchaDataset:\n",
    "    def __init__(self, df, transform=None):\n",
    "        self.df = df\n",
    "        self.transform = transform\n",
    "        \n",
    "    def __len__(self):\n",
    "        return len(self.df)\n",
    "    \n",
    "    def __getitem__(self, idx):\n",
    "        data = self.df.iloc[idx]\n",
    "        image = Image.open(os.path.join(path, data['image'])).convert('L')\n",
    "        label = torch.tensor(data['label'], dtype=torch.int32)\n",
    "        \n",
    "        if self.transform is not None:\n",
    "            image = self.transform(image)\n",
    "        \n",
    "        return image, label\n",
    "        \n",
    "        \n",
    "transform = T.Compose([\n",
    "    T.ToTensor()\n",
    "])\n",
    "\n",
    "train_data = CaptchaDataset(df_train, transform)\n",
    "test_data = CaptchaDataset(df_test, transform)\n",
    "\n",
    "train_loader = DataLoader(train_data, batch_size=16, shuffle=True)\n",
    "test_loader = DataLoader(test_data, batch_size=8)\n"
   ]
  },
  {
   "cell_type": "code",
   "execution_count": 19,
   "metadata": {
    "execution": {
     "iopub.execute_input": "2021-09-09T13:04:03.360970Z",
     "iopub.status.busy": "2021-09-09T13:04:03.360615Z",
     "iopub.status.idle": "2021-09-09T13:04:03.381229Z",
     "shell.execute_reply": "2021-09-09T13:04:03.380332Z",
     "shell.execute_reply.started": "2021-09-09T13:04:03.360924Z"
    }
   },
   "outputs": [],
   "source": [
    "class Bidirectional(nn.Module):\n",
    "    def __init__(self, inp, hidden, out, lstm=True):\n",
    "        super(Bidirectional, self).__init__()\n",
    "        if lstm:\n",
    "            self.rnn = nn.LSTM(inp, hidden, bidirectional=True)\n",
    "        else:\n",
    "            self.rnn = nn.GRU(inp, hidden, bidirectional=True)\n",
    "        self.embedding = nn.Linear(hidden*2, out)\n",
    "    def forward(self, X):\n",
    "        recurrent, _ = self.rnn(X)\n",
    "        out = self.embedding(recurrent)     \n",
    "        return out\n",
    "    \n",
    "    \n",
    "class CRNN(nn.Module):\n",
    "    def __init__(self, in_channels, output):\n",
    "        super(CRNN, self).__init__()\n",
    "\n",
    "        self.cnn = nn.Sequential(\n",
    "                nn.Conv2d(in_channels, 256, 9, stride=1, padding=1),\n",
    "                nn.ReLU(),\n",
    "                nn.BatchNorm2d(256),\n",
    "                nn.MaxPool2d(3, 3),\n",
    "                nn.Conv2d(256, 256, (4, 3), stride=1, padding=1),\n",
    "                nn.ReLU(),\n",
    "                nn.BatchNorm2d(256))\n",
    "        \n",
    "        self.linear = nn.Linear(3328, 256)\n",
    "        self.bn1 = nn.BatchNorm1d(256)\n",
    "        self.rnn = Bidirectional(256, 1024, output+1)\n",
    "\n",
    "    def forward(self, X, y=None, criterion = None):\n",
    "        out = self.cnn(X)\n",
    "        N, C, w, h = out.size()\n",
    "        print(N, C, w, h)\n",
    "        out = out.view(N, -1, h)\n",
    "        out = out.permute(0, 2, 1)\n",
    "        out = self.linear(out)\n",
    "\n",
    "        out = out.permute(1, 0, 2)\n",
    "        out = self.rnn(out)\n",
    "            \n",
    "        if y is not None:\n",
    "            T = out.size(0)\n",
    "            N = out.size(1)\n",
    "        \n",
    "            input_lengths = torch.full(size=(N,), fill_value=T, dtype=torch.int32)\n",
    "            target_lengths = torch.full(size=(N,), fill_value=5, dtype=torch.int32)\n",
    "        \n",
    "            loss = criterion(out, y, input_lengths, target_lengths)\n",
    "            \n",
    "            return out, loss\n",
    "        \n",
    "        return out, None\n",
    "    \n",
    "    def _ConvLayer(self, inp, out, kernel, stride, padding, bn=False):\n",
    "        if bn:\n",
    "            conv = [\n",
    "                nn.Conv2d(inp, out, kernel, stride=stride, padding=padding),\n",
    "                nn.ReLU(),\n",
    "                nn.BatchNorm2d(out)\n",
    "            ]\n",
    "        else:\n",
    "            conv = [\n",
    "                nn.Conv2d(inp, out, kernel, stride=stride, padding=padding),\n",
    "                nn.ReLU()\n",
    "            ]\n",
    "        return nn.Sequential(*conv)"
   ]
  },
  {
   "cell_type": "code",
   "execution_count": 20,
   "metadata": {
    "execution": {
     "iopub.execute_input": "2021-09-09T13:04:03.758488Z",
     "iopub.status.busy": "2021-09-09T13:04:03.757767Z",
     "iopub.status.idle": "2021-09-09T13:07:18.650093Z",
     "shell.execute_reply": "2021-09-09T13:07:18.649242Z",
     "shell.execute_reply.started": "2021-09-09T13:04:03.758443Z"
    }
   },
   "outputs": [
    {
     "name": "stderr",
     "output_type": "stream",
     "text": [
      "100%|███████████████████████████████████████████████████████████████████████████████████████████████████████████████████████████████████████████████████| 52/52 [00:18<00:00,  2.85it/s, Epoch=1, Loss=4.43]\n",
      "100%|████████████████████████████████████████████████████████████████████████████████████████████████████████████████████████████████████████████████████| 52/52 [00:03<00:00, 13.28it/s, Epoch=2, Loss=3.4]\n",
      "100%|███████████████████████████████████████████████████████████████████████████████████████████████████████████████████████████████████████████████████| 52/52 [00:03<00:00, 13.30it/s, Epoch=3, Loss=3.22]\n",
      "100%|███████████████████████████████████████████████████████████████████████████████████████████████████████████████████████████████████████████████████| 52/52 [00:03<00:00, 13.40it/s, Epoch=4, Loss=3.27]\n",
      "100%|███████████████████████████████████████████████████████████████████████████████████████████████████████████████████████████████████████████████████| 52/52 [00:03<00:00, 13.38it/s, Epoch=5, Loss=3.23]\n",
      "100%|███████████████████████████████████████████████████████████████████████████████████████████████████████████████████████████████████████████████████| 52/52 [00:03<00:00, 13.37it/s, Epoch=6, Loss=3.32]\n",
      "100%|███████████████████████████████████████████████████████████████████████████████████████████████████████████████████████████████████████████████████| 52/52 [00:03<00:00, 13.38it/s, Epoch=7, Loss=3.26]\n",
      "100%|███████████████████████████████████████████████████████████████████████████████████████████████████████████████████████████████████████████████████| 52/52 [00:03<00:00, 13.33it/s, Epoch=8, Loss=3.26]\n",
      "100%|███████████████████████████████████████████████████████████████████████████████████████████████████████████████████████████████████████████████████| 52/52 [00:03<00:00, 13.30it/s, Epoch=9, Loss=3.25]\n",
      "100%|██████████████████████████████████████████████████████████████████████████████████████████████████████████████████████████████████████████████████| 52/52 [00:03<00:00, 13.27it/s, Epoch=10, Loss=3.31]\n",
      "100%|███████████████████████████████████████████████████████████████████████████████████████████████████████████████████████████████████████████████████| 52/52 [00:03<00:00, 13.32it/s, Epoch=11, Loss=3.1]\n",
      "100%|██████████████████████████████████████████████████████████████████████████████████████████████████████████████████████████████████████████████████| 52/52 [00:03<00:00, 13.31it/s, Epoch=12, Loss=3.28]\n",
      "100%|██████████████████████████████████████████████████████████████████████████████████████████████████████████████████████████████████████████████████| 52/52 [00:03<00:00, 13.27it/s, Epoch=13, Loss=3.19]\n",
      "100%|██████████████████████████████████████████████████████████████████████████████████████████████████████████████████████████████████████████████████| 52/52 [00:03<00:00, 13.27it/s, Epoch=14, Loss=3.27]\n",
      "100%|███████████████████████████████████████████████████████████████████████████████████████████████████████████████████████████████████████████████████| 52/52 [00:03<00:00, 13.30it/s, Epoch=15, Loss=3.2]\n",
      "100%|██████████████████████████████████████████████████████████████████████████████████████████████████████████████████████████████████████████████████| 52/52 [00:03<00:00, 13.30it/s, Epoch=16, Loss=3.28]\n",
      "100%|██████████████████████████████████████████████████████████████████████████████████████████████████████████████████████████████████████████████████| 52/52 [00:03<00:00, 13.26it/s, Epoch=17, Loss=3.24]\n",
      "100%|██████████████████████████████████████████████████████████████████████████████████████████████████████████████████████████████████████████████████| 52/52 [00:03<00:00, 13.23it/s, Epoch=18, Loss=3.03]\n",
      "100%|██████████████████████████████████████████████████████████████████████████████████████████████████████████████████████████████████████████████████| 52/52 [00:03<00:00, 13.32it/s, Epoch=19, Loss=3.06]\n",
      "100%|██████████████████████████████████████████████████████████████████████████████████████████████████████████████████████████████████████████████████| 52/52 [00:03<00:00, 13.28it/s, Epoch=20, Loss=3.22]\n",
      "100%|██████████████████████████████████████████████████████████████████████████████████████████████████████████████████████████████████████████████████| 52/52 [00:03<00:00, 13.31it/s, Epoch=21, Loss=3.12]\n",
      "100%|██████████████████████████████████████████████████████████████████████████████████████████████████████████████████████████████████████████████████| 52/52 [00:03<00:00, 13.43it/s, Epoch=22, Loss=3.04]\n",
      "100%|██████████████████████████████████████████████████████████████████████████████████████████████████████████████████████████████████████████████████| 52/52 [00:03<00:00, 13.32it/s, Epoch=23, Loss=2.56]\n",
      "100%|██████████████████████████████████████████████████████████████████████████████████████████████████████████████████████████████████████████████████| 52/52 [00:03<00:00, 13.24it/s, Epoch=24, Loss=2.44]\n",
      "100%|██████████████████████████████████████████████████████████████████████████████████████████████████████████████████████████████████████████████████| 52/52 [00:03<00:00, 13.28it/s, Epoch=25, Loss=2.14]\n",
      "100%|███████████████████████████████████████████████████████████████████████████████████████████████████████████████████████████████████████████████████| 52/52 [00:03<00:00, 13.26it/s, Epoch=26, Loss=2.1]\n",
      "100%|██████████████████████████████████████████████████████████████████████████████████████████████████████████████████████████████████████████████████| 52/52 [00:03<00:00, 13.27it/s, Epoch=27, Loss=1.49]\n",
      "100%|██████████████████████████████████████████████████████████████████████████████████████████████████████████████████████████████████████████████████| 52/52 [00:03<00:00, 13.27it/s, Epoch=28, Loss=1.27]\n",
      "100%|█████████████████████████████████████████████████████████████████████████████████████████████████████████████████████████████████████████████████| 52/52 [00:03<00:00, 13.21it/s, Epoch=29, Loss=0.956]\n",
      "100%|█████████████████████████████████████████████████████████████████████████████████████████████████████████████████████████████████████████████████| 52/52 [00:03<00:00, 13.09it/s, Epoch=30, Loss=0.755]\n",
      "100%|██████████████████████████████████████████████████████████████████████████████████████████████████████████████████████████████████████████████████| 52/52 [00:03<00:00, 13.21it/s, Epoch=31, Loss=0.66]\n",
      "100%|█████████████████████████████████████████████████████████████████████████████████████████████████████████████████████████████████████████████████| 52/52 [00:03<00:00, 13.13it/s, Epoch=32, Loss=0.367]\n",
      "100%|█████████████████████████████████████████████████████████████████████████████████████████████████████████████████████████████████████████████████| 52/52 [00:03<00:00, 13.18it/s, Epoch=33, Loss=0.314]\n",
      "100%|█████████████████████████████████████████████████████████████████████████████████████████████████████████████████████████████████████████████████| 52/52 [00:03<00:00, 13.20it/s, Epoch=34, Loss=0.333]\n",
      "100%|█████████████████████████████████████████████████████████████████████████████████████████████████████████████████████████████████████████████████| 52/52 [00:03<00:00, 13.20it/s, Epoch=35, Loss=0.451]\n",
      "100%|█████████████████████████████████████████████████████████████████████████████████████████████████████████████████████████████████████████████████| 52/52 [00:03<00:00, 13.23it/s, Epoch=36, Loss=0.287]\n",
      "100%|█████████████████████████████████████████████████████████████████████████████████████████████████████████████████████████████████████████████████| 52/52 [00:03<00:00, 13.19it/s, Epoch=37, Loss=0.456]\n",
      "100%|█████████████████████████████████████████████████████████████████████████████████████████████████████████████████████████████████████████████████| 52/52 [00:04<00:00, 12.99it/s, Epoch=38, Loss=0.132]\n",
      "100%|████████████████████████████████████████████████████████████████████████████████████████████████████████████████████████████████████████████████| 52/52 [00:03<00:00, 13.18it/s, Epoch=39, Loss=0.0648]\n",
      "100%|█████████████████████████████████████████████████████████████████████████████████████████████████████████████████████████████████████████████████| 52/52 [00:03<00:00, 13.22it/s, Epoch=40, Loss=0.195]\n",
      "100%|████████████████████████████████████████████████████████████████████████████████████████████████████████████████████████████████████████████████| 52/52 [00:03<00:00, 13.16it/s, Epoch=41, Loss=-.0244]\n",
      "100%|████████████████████████████████████████████████████████████████████████████████████████████████████████████████████████████████████████████████| 52/52 [00:03<00:00, 13.21it/s, Epoch=42, Loss=0.0454]\n",
      "100%|█████████████████████████████████████████████████████████████████████████████████████████████████████████████████████████████████████████████████| 52/52 [00:03<00:00, 13.17it/s, Epoch=43, Loss=0.112]\n",
      "100%|█████████████████████████████████████████████████████████████████████████████████████████████████████████████████████████████████████████████████| 52/52 [00:04<00:00, 12.98it/s, Epoch=44, Loss=0.135]\n",
      "100%|███████████████████████████████████████████████████████████████████████████████████████████████████████████████████████████████████████████████| 52/52 [00:04<00:00, 12.94it/s, Epoch=45, Loss=0.00154]\n",
      "100%|███████████████████████████████████████████████████████████████████████████████████████████████████████████████████████████████████████████████| 52/52 [00:03<00:00, 13.06it/s, Epoch=46, Loss=-.00939]\n",
      "100%|█████████████████████████████████████████████████████████████████████████████████████████████████████████████████████████████████████████████████| 52/52 [00:03<00:00, 13.27it/s, Epoch=47, Loss=0.114]\n",
      "100%|████████████████████████████████████████████████████████████████████████████████████████████████████████████████████████████████████████████████| 52/52 [00:03<00:00, 13.03it/s, Epoch=48, Loss=0.0349]\n",
      "100%|████████████████████████████████████████████████████████████████████████████████████████████████████████████████████████████████████████████████| 52/52 [00:04<00:00, 12.91it/s, Epoch=49, Loss=0.0989]\n",
      "100%|███████████████████████████████████████████████████████████████████████████████████████████████████████████████████████████████████████████████| 52/52 [00:03<00:00, 13.20it/s, Epoch=50, Loss=0.00602]\n",
      "100%|███████████████████████████████████████████████████████████████████████████████████████████████████████████████████████████████████████████████████████████| 26/26 [00:03<00:00,  7.58it/s, Loss=0.308]\n"
     ]
    }
   ],
   "source": [
    "class Engine:\n",
    "    def __init__(self, model, optimizer, criterion, epochs=50, early_stop=False, device='cpu'):\n",
    "        self.model = model\n",
    "        self.optimizer = optimizer\n",
    "        self.criterion = criterion\n",
    "        self.epochs = epochs\n",
    "        self.early_stop = early_stop\n",
    "        self.device = device\n",
    "        \n",
    "    def fit(self, dataloader):\n",
    "        hist_loss = []\n",
    "        for epoch in range(self.epochs):\n",
    "            self.model.train()\n",
    "            tk = tqdm(dataloader, total=len(dataloader))\n",
    "            for data, target in tk:\n",
    "                data = data.to(device=self.device)\n",
    "                target = target.to(device=self.device)\n",
    "\n",
    "                self.optimizer.zero_grad()\n",
    "\n",
    "                out, loss = self.model(data, target, criterion=self.criterion)\n",
    "\n",
    "                loss.backward()\n",
    "\n",
    "                self.optimizer.step()\n",
    "\n",
    "\n",
    "                tk.set_postfix({'Epoch':epoch+1, 'Loss' : loss.item()})\n",
    "                \n",
    "    def evaluate(self, dataloader):\n",
    "        self.model.eval()\n",
    "        loss = 0\n",
    "        hist_loss = []\n",
    "        outs = collections.defaultdict(list)\n",
    "        tk = tqdm(dataloader, total=len(dataloader))\n",
    "        with torch.no_grad():\n",
    "            for data, target in tk:\n",
    "                data = data.to(device=self.device)\n",
    "                target = target.to(device=self.device)\n",
    "\n",
    "                out, loss = self.model(data, target, criterion=self.criterion)\n",
    "                \n",
    "                outs['pred'].append(out)\n",
    "                outs['target'].append(target)\n",
    "                \n",
    "\n",
    "                hist_loss.append(loss)\n",
    "\n",
    "                tk.set_postfix({'Loss':loss.item()})\n",
    "                \n",
    "        return outs, hist_loss\n",
    "    \n",
    "    def predict(self, image):\n",
    "        image = Image.open(image).convert('L')\n",
    "        image_tensor = T.ToTensor()(image)\n",
    "        image_tensor = image_tensor.unsqueeze(0)        \n",
    "        out, _ = self.model(image_tensor.to(device=self.device))\n",
    "        out = out.permute(1, 0, 2)\n",
    "        out = out.log_softmax(2)\n",
    "        out = out.argmax(2)\n",
    "        out = out.cpu().detach().numpy()\n",
    "        \n",
    "        return out\n",
    "        \n",
    "            \n",
    "            \n",
    "            \n",
    "model = CRNN(in_channels=1, output=num_class).to(DEVICE)\n",
    "optimizer = optim.Adam(model.parameters(), lr=1e-4)\n",
    "criterion = nn.CTCLoss()\n",
    "\n",
    "engine = Engine(model, optimizer, criterion, device=DEVICE)\n",
    "engine.fit(train_loader)\n",
    "outs, loss = engine.evaluate(test_loader)\n",
    "            \n",
    "            \n",
    "            \n",
    "        \n",
    "        "
   ]
  },
  {
   "cell_type": "code",
   "execution_count": 28,
   "metadata": {
    "execution": {
     "iopub.execute_input": "2021-09-09T13:10:19.975739Z",
     "iopub.status.busy": "2021-09-09T13:10:19.975415Z",
     "iopub.status.idle": "2021-09-09T13:10:20.082050Z",
     "shell.execute_reply": "2021-09-09T13:10:20.081265Z",
     "shell.execute_reply.started": "2021-09-09T13:10:19.975711Z"
    }
   },
   "outputs": [
    {
     "data": {
      "image/png": "[encoded data removed]",
      "text/plain": [
       "<Figure size 1080x864 with 1 Axes>"
      ]
     },
     "metadata": {
      "needs_background": "light"
     },
     "output_type": "display_data"
    }
   ],
   "source": [
    "import matplotlib.pyplot as plt\n",
    "import numpy as np\n",
    "\n",
    "ids = np.random.randint(len(data))\n",
    "\n",
    "image = \"samples/y3c58.png\"\n",
    "out = engine.predict(image)[0]\n",
    "\n",
    "def show_prediction(out, image):\n",
    "    gt = image.split('/')[-1].split('.')[0]\n",
    "    imagePIL = Image.open(image).convert('L')\n",
    "\n",
    "    pred = ''\n",
    "    then = 0\n",
    "    for x in out:\n",
    "        if then != x:\n",
    "            if x > 0 :\n",
    "                pred += mapping_inv[x]\n",
    "        then = x\n",
    "\n",
    "    plt.figure(figsize=(15, 12))\n",
    "    img_array = np.asarray(imagePIL)\n",
    "    plt.title(f'Ground Truth - {gt} || Prediction - {pred}')\n",
    "    plt.axis('off')\n",
    "    plt.imshow(img_array)\n",
    "    \n",
    "show_prediction(out, image)"
   ]
  },
  {
   "cell_type": "code",
   "execution_count": 26,
   "metadata": {
    "execution": {
     "iopub.execute_input": "2021-09-09T13:10:39.871696Z",
     "iopub.status.busy": "2021-09-09T13:10:39.871335Z",
     "iopub.status.idle": "2021-09-09T13:10:40.297121Z",
     "shell.execute_reply": "2021-09-09T13:10:40.296262Z",
     "shell.execute_reply.started": "2021-09-09T13:10:39.871666Z"
    }
   },
   "outputs": [],
   "source": [
    "saving = {'state_dict':engine.model.state_dict(),\n",
    "          'optimizer':engine.optimizer.state_dict(),\n",
    "         'mapping':mapping,\n",
    "         'mapping_inv':mapping_inv}\n",
    "torch.save(saving, './model.pth')\n",
    "        \n",
    "\n"
   ]
  },
  {
   "cell_type": "code",
   "execution_count": null,
   "metadata": {},
   "outputs": [],
   "source": []
  }
 ],
 "metadata": {
  "kernelspec": {
   "display_name": "Python 3 (ipykernel)",
   "language": "python",
   "name": "python3"
  },
  "language_info": {
   "codemirror_mode": {
    "name": "ipython",
    "version": 3
   },
   "file_extension": ".py",
   "mimetype": "text/x-python",
   "name": "python",
   "nbconvert_exporter": "python",
   "pygments_lexer": "ipython3",
   "version": "3.9.10"
  }
 },
 "nbformat": 4,
 "nbformat_minor": 4
}
